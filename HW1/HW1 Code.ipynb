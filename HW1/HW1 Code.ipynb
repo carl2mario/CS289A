{
 "cells": [
  {
   "cell_type": "markdown",
   "metadata": {},
   "source": [
    "Name: Carl Mario Britto\n",
    "\n",
    "SID: 3034330576\n",
    "\n",
    "Mail: carl2mario@berkeley.edu"
   ]
  },
  {
   "cell_type": "markdown",
   "metadata": {},
   "source": [
    "# Python Configuration and Data Loading"
   ]
  },
  {
   "cell_type": "code",
   "execution_count": 1,
   "metadata": {
    "ExecuteTime": {
     "end_time": "2019-01-30T03:44:49.118799Z",
     "start_time": "2019-01-30T03:44:44.202110Z"
    }
   },
   "outputs": [
    {
     "name": "stdout",
     "output_type": "stream",
     "text": [
      "\n",
      "loaded mnist data!\n",
      "test_data (10000, 784)\n",
      "training_data (60000, 784)\n",
      "training_labels (60000, 1)\n",
      "\n",
      "loaded spam data!\n",
      "test_data (5857, 32)\n",
      "training_data (5172, 32)\n",
      "training_labels (5172, 1)\n",
      "\n",
      "loaded cifar10 data!\n",
      "test_data (10000, 3072)\n",
      "training_data (50000, 3072)\n",
      "training_labels (50000, 1)\n"
     ]
    }
   ],
   "source": [
    "from scipy import io\n",
    "from sklearn import svm\n",
    "import matplotlib.pyplot as plt\n",
    "import numpy as np\n",
    "import sys\n",
    "if sys.version_info[0] < 3:\n",
    "    raise Exception(\"Python 3 not detected.\")\n",
    "\n",
    "\n",
    "for data_name in [\"mnist\", \"spam\", \"cifar10\"]:\n",
    "    data = io.loadmat(\"data/%s_data.mat\" % data_name)\n",
    "    print(\"\\nloaded %s data!\" % data_name)\n",
    "    fields = \"test_data\", \"training_data\", \"training_labels\"\n",
    "    for field in fields:\n",
    "        print(field, data[field].shape)"
   ]
  },
  {
   "cell_type": "markdown",
   "metadata": {},
   "source": [
    "# Data Partitioning"
   ]
  },
  {
   "cell_type": "markdown",
   "metadata": {
    "ExecuteTime": {
     "end_time": "2019-01-27T00:14:39.064912Z",
     "start_time": "2019-01-27T00:14:39.057896Z"
    }
   },
   "source": [
    "* For the MNIST dataset, write code that sets aside 10,000 training images as a validation set.\n",
    "* For the spam dataset, write code that sets aside 20% of the training data as a validation set.\n",
    "* For the CIFAR-10 dataset, write code that sets aside 5,000 training images as a validation set."
   ]
  },
  {
   "cell_type": "code",
   "execution_count": 1,
   "metadata": {
    "ExecuteTime": {
     "end_time": "2019-01-30T04:50:11.886337Z",
     "start_time": "2019-01-30T04:50:11.127711Z"
    }
   },
   "outputs": [],
   "source": [
    "# Load .mat files\n",
    "import scipy.io\n",
    "spam = scipy.io.loadmat('data/spam_data.mat')\n",
    "mnist = scipy.io.loadmat('data/mnist_data.mat')\n",
    "cifar = scipy.io.loadmat('data/cifar10_data.mat')"
   ]
  },
  {
   "cell_type": "code",
   "execution_count": 2,
   "metadata": {
    "ExecuteTime": {
     "end_time": "2019-01-30T04:50:16.399325Z",
     "start_time": "2019-01-30T04:50:15.699073Z"
    }
   },
   "outputs": [],
   "source": [
    "# Import libraries to manipulate data\n",
    "import pandas as pd\n",
    "import numpy as np"
   ]
  },
  {
   "cell_type": "code",
   "execution_count": 3,
   "metadata": {
    "ExecuteTime": {
     "end_time": "2019-01-30T04:50:27.039565Z",
     "start_time": "2019-01-30T04:50:26.626796Z"
    }
   },
   "outputs": [],
   "source": [
    "# Convert to DataFrame and select required set of data\n",
    "mnist_df = pd.DataFrame(mnist['training_data'])\n",
    "mnist_df['label'] = mnist['training_labels']\n",
    "\n",
    "mnist_test = pd.DataFrame(mnist['test_data'])\n",
    "\n",
    "# Sample method to shuffle data\n",
    "mnist_df = mnist_df.sample(frac=1).reset_index(drop=True)\n",
    "mnist_train = mnist_df[:-10000]\n",
    "mnist_val = mnist_df[-10000:]"
   ]
  },
  {
   "cell_type": "code",
   "execution_count": 4,
   "metadata": {
    "ExecuteTime": {
     "end_time": "2019-01-30T04:50:28.972611Z",
     "start_time": "2019-01-30T04:50:28.956706Z"
    }
   },
   "outputs": [],
   "source": [
    "# Convert to DataFrame and select required set of data\n",
    "spam_df = pd.DataFrame(spam['training_data'])\n",
    "spam_df['label'] = spam['training_labels']\n",
    "\n",
    "spam_test = pd.DataFrame(spam['test_data'])\n",
    "\n",
    "# Sample method to shuffle data\n",
    "spam_df = spam_df.sample(frac=1).reset_index(drop=True)\n",
    "spam_train = spam_df[:int(-0.2*len(spam_df))]\n",
    "spam_val = spam_df[int(-0.2*len(spam_df)):]"
   ]
  },
  {
   "cell_type": "code",
   "execution_count": 8,
   "metadata": {
    "ExecuteTime": {
     "end_time": "2019-01-30T04:52:11.866298Z",
     "start_time": "2019-01-30T04:52:10.567369Z"
    }
   },
   "outputs": [],
   "source": [
    "# Convert to DataFrame and select required set of data\n",
    "cifar_df = pd.DataFrame(cifar['training_data'])\n",
    "cifar_df['label'] = cifar['training_labels']\n",
    "\n",
    "cifar_test = pd.DataFrame(cifar['test_data'])\n",
    "\n",
    "# Sample method to shuffle data\n",
    "cifar_df = cifar_df.sample(frac=1).reset_index(drop=True)\n",
    "cifar_train = cifar_df[:-5000]\n",
    "cifar_val = cifar_df[-5000:]"
   ]
  },
  {
   "cell_type": "markdown",
   "metadata": {},
   "source": [
    "# Support Vector Machines: Coding"
   ]
  },
  {
   "cell_type": "code",
   "execution_count": 7,
   "metadata": {
    "ExecuteTime": {
     "end_time": "2019-01-30T04:52:05.801449Z",
     "start_time": "2019-01-30T04:52:04.909161Z"
    }
   },
   "outputs": [],
   "source": [
    "# Import svm model\n",
    "import matplotlib.pyplot as plt\n",
    "from sklearn import svm\n",
    "\n",
    "# Import classification accuracy\n",
    "from sklearn.metrics import accuracy_score\n",
    "\n",
    "# Hide warnings\n",
    "import warnings\n",
    "warnings.filterwarnings(\"ignore\")\n",
    "\n",
    "# Plotting\n",
    "%matplotlib inline"
   ]
  },
  {
   "cell_type": "markdown",
   "metadata": {},
   "source": [
    "## MNIST"
   ]
  },
  {
   "cell_type": "code",
   "execution_count": 8,
   "metadata": {
    "ExecuteTime": {
     "end_time": "2019-01-30T03:49:20.826229Z",
     "start_time": "2019-01-30T03:44:52.892100Z"
    }
   },
   "outputs": [
    {
     "name": "stdout",
     "output_type": "stream",
     "text": [
      "Accuracy when using  100 training examples is  0.7113\n",
      "Accuracy when using  200 training examples is  0.7854\n",
      "Accuracy when using  500 training examples is  0.8423\n",
      "Accuracy when using  1000 training examples is  0.8756\n",
      "Accuracy when using  2000 training examples is  0.8868\n",
      "Accuracy when using  5000 training examples is  0.9018\n",
      "Accuracy when using  10000 training examples is  0.9061\n"
     ]
    }
   ],
   "source": [
    "train_list = [100, 200, 500, 1000, 2000, 5000, 10000]\n",
    "accuracy_list = []\n",
    "accuracy_list_train = []\n",
    "\n",
    "# Create a svm Classifier\n",
    "clf = svm.SVC(kernel='linear')  # Linear Kernel\n",
    "\n",
    "for i in train_list:\n",
    "    # Train the model using the training set\n",
    "    clf.fit(mnist_train.iloc[:i, :-1], mnist_train.iloc[:i, -1:])\n",
    "    accuracy_list_train.append(\n",
    "        clf.score(mnist_train.iloc[:i, :-1], mnist_train.iloc[:i, -1:]))\n",
    "\n",
    "    # Predict the response for validation set\n",
    "    mnist_pred = clf.predict(mnist_val.iloc[:, :-1])\n",
    "    score = accuracy_score(mnist_val.iloc[:, -1:], mnist_pred)\n",
    "    accuracy_list.append(score)\n",
    "    print('Accuracy when using ', i, 'training examples is ', score)"
   ]
  },
  {
   "cell_type": "code",
   "execution_count": 9,
   "metadata": {
    "ExecuteTime": {
     "end_time": "2019-01-30T03:49:21.347984Z",
     "start_time": "2019-01-30T03:49:20.831451Z"
    }
   },
   "outputs": [
    {
     "data": {
      "image/png": "[encoded data removed]",
      "text/plain": [
       "<Figure size 432x288 with 1 Axes>"
      ]
     },
     "metadata": {},
     "output_type": "display_data"
    }
   ],
   "source": [
    "plt.plot(train_list, accuracy_list, label='Prediction Accuracy')\n",
    "plt.plot(train_list, accuracy_list_train, label='Training Accuracy')\n",
    "plt.ylabel('Prediction Accuracy')\n",
    "plt.legend()\n",
    "plt.title('MNIST')\n",
    "plt.xlabel('Number of Training Elements')\n",
    "plt.show()"
   ]
  },
  {
   "cell_type": "markdown",
   "metadata": {},
   "source": [
    "## Spam"
   ]
  },
  {
   "cell_type": "code",
   "execution_count": 10,
   "metadata": {
    "ExecuteTime": {
     "end_time": "2019-01-30T03:49:25.140983Z",
     "start_time": "2019-01-30T03:49:21.353960Z"
    }
   },
   "outputs": [
    {
     "name": "stdout",
     "output_type": "stream",
     "text": [
      "Accuracy when using  100 training examples is  0.7833655705996132\n",
      "Accuracy when using  200 training examples is  0.7920696324951644\n",
      "Accuracy when using  500 training examples is  0.8017408123791102\n",
      "Accuracy when using  1000 training examples is  0.8075435203094777\n",
      "Accuracy when using  2000 training examples is  0.8123791102514507\n",
      "Accuracy when using  5172 training examples is  0.8133462282398453\n"
     ]
    }
   ],
   "source": [
    "train_list = [100, 200, 500, 1000, 2000, len(spam_df)]\n",
    "accuracy_list = []\n",
    "accuracy_list_train = []\n",
    "\n",
    "# Create a svm Classifier\n",
    "clf = svm.SVC(kernel='linear')  # Linear Kernel\n",
    "\n",
    "for i in train_list:\n",
    "    # Train the model using the training set\n",
    "    clf.fit(spam_train.iloc[:i, :-1], spam_train.iloc[:i, -1:])\n",
    "    accuracy_list_train.append(\n",
    "        clf.score(spam_train.iloc[:i, :-1], spam_train.iloc[:i, -1:]))\n",
    "\n",
    "    # Predict the response for validation set\n",
    "    spam_pred = clf.predict(spam_val.iloc[:, :-1])\n",
    "    score = accuracy_score(spam_val.iloc[:, -1:], spam_pred)\n",
    "    accuracy_list.append(score)\n",
    "    print('Accuracy when using ', i, 'training examples is ', score)"
   ]
  },
  {
   "cell_type": "code",
   "execution_count": 12,
   "metadata": {
    "ExecuteTime": {
     "end_time": "2019-01-30T03:49:59.440810Z",
     "start_time": "2019-01-30T03:49:59.123840Z"
    }
   },
   "outputs": [
    {
     "data": {
      "image/png": "[encoded data removed]",
      "text/plain": [
       "<Figure size 432x288 with 1 Axes>"
      ]
     },
     "metadata": {},
     "output_type": "display_data"
    }
   ],
   "source": [
    "plt.plot(train_list, accuracy_list, label='Prediction Accuracy')\n",
    "plt.plot(train_list, accuracy_list_train, label='Training Accuracy')\n",
    "plt.ylabel('Prediction Accuracy')\n",
    "plt.legend()\n",
    "plt.title('Spam')\n",
    "plt.xlabel('Number of Training Elements')\n",
    "plt.show()"
   ]
  },
  {
   "cell_type": "markdown",
   "metadata": {},
   "source": [
    "## Cifar-10"
   ]
  },
  {
   "cell_type": "code",
   "execution_count": 13,
   "metadata": {
    "ExecuteTime": {
     "end_time": "2019-01-30T04:05:08.879383Z",
     "start_time": "2019-01-30T03:49:59.447628Z"
    }
   },
   "outputs": [
    {
     "name": "stdout",
     "output_type": "stream",
     "text": [
      "Accuracy when using  100 training examples is  0.2446\n",
      "Accuracy when using  200 training examples is  0.2542\n",
      "Accuracy when using  500 training examples is  0.2796\n",
      "Accuracy when using  1000 training examples is  0.2894\n",
      "Accuracy when using  2000 training examples is  0.3112\n",
      "Accuracy when using  5000 training examples is  0.305\n"
     ]
    }
   ],
   "source": [
    "train_list = [100, 200, 500, 1000, 2000, 5000]\n",
    "accuracy_list = []\n",
    "accuracy_list_train = []\n",
    "\n",
    "# Create a svm Classifier\n",
    "clf = svm.SVC(kernel='linear')  # Linear Kernel\n",
    "\n",
    "for i in train_list:\n",
    "    # Train the model using the training set\n",
    "    clf.fit(cifar_train.iloc[:i, :-1], cifar_train.iloc[:i, -1:])\n",
    "    accuracy_list_train.append(\n",
    "        clf.score(cifar_train.iloc[:i, :-1], cifar_train.iloc[:i, -1:]))\n",
    "\n",
    "    # Predict the response for validation set\n",
    "    cifar_pred = clf.predict(cifar_val.iloc[:, :-1])\n",
    "    score = accuracy_score(cifar_val.iloc[:, -1:], cifar_pred)\n",
    "    accuracy_list.append(score)\n",
    "    print('Accuracy when using ', i, 'training examples is ', score)"
   ]
  },
  {
   "cell_type": "code",
   "execution_count": 14,
   "metadata": {
    "ExecuteTime": {
     "end_time": "2019-01-30T04:05:09.195489Z",
     "start_time": "2019-01-30T04:05:08.885428Z"
    }
   },
   "outputs": [
    {
     "data": {
      "image/png": "[encoded data removed]",
      "text/plain": [
       "<Figure size 432x288 with 1 Axes>"
      ]
     },
     "metadata": {},
     "output_type": "display_data"
    }
   ],
   "source": [
    "plt.plot(train_list, accuracy_list, label='Prediction Accuracy')\n",
    "plt.plot(train_list, accuracy_list_train, label='Training Accuracy')\n",
    "plt.ylabel('Prediction Accuracy')\n",
    "plt.legend()\n",
    "plt.title('Cifar-10')\n",
    "plt.xlabel('Number of Training Elements')\n",
    "plt.show()"
   ]
  },
  {
   "cell_type": "markdown",
   "metadata": {},
   "source": [
    "# Hyperparameter Tuning"
   ]
  },
  {
   "cell_type": "code",
   "execution_count": 7,
   "metadata": {
    "ExecuteTime": {
     "end_time": "2019-01-30T04:20:54.490147Z",
     "start_time": "2019-01-30T04:13:54.356016Z"
    }
   },
   "outputs": [
    {
     "name": "stdout",
     "output_type": "stream",
     "text": [
      "Accuracy when using  1e-07  as C parameter is 0.9238\n",
      "Accuracy when using  0.001  as C parameter is 0.9087\n",
      "Accuracy when using  1  as C parameter is 0.9087\n",
      "Accuracy when using  10  as C parameter is 0.9087\n",
      "Best Accuracy is when achieved using  1e-07  as C parameter and accuracy is 0.9238\n"
     ]
    }
   ],
   "source": [
    "C_list = [1e-7, 1e-3, 1, 10]\n",
    "accuracy_list = []\n",
    "score_C = 0\n",
    "size = 10000\n",
    "\n",
    "for i in C_list:\n",
    "    # Create a svm Classifier\n",
    "    clf = svm.SVC(C=i, kernel='linear')  # Linear Kernel\n",
    "\n",
    "    # Train the model using the training set\n",
    "    clf.fit(mnist_train.iloc[:size, :-1], mnist_train.iloc[:size, -1:])\n",
    "\n",
    "    # Predict the response for validation set\n",
    "    mnist_pred = clf.predict(mnist_val.iloc[:, :-1])\n",
    "    score = accuracy_score(mnist_val.iloc[:, -1:], mnist_pred)\n",
    "    accuracy_list.append(score)\n",
    "\n",
    "    print('Accuracy when using ', i, ' as C parameter is', score)\n",
    "    if score > score_C:\n",
    "        score_C = score\n",
    "        C_mnist = i\n",
    "print('Best Accuracy is when achieved using ', C_mnist,\n",
    "      ' as C parameter and accuracy is', score_C)"
   ]
  },
  {
   "cell_type": "code",
   "execution_count": 9,
   "metadata": {
    "ExecuteTime": {
     "end_time": "2019-01-30T04:20:55.178835Z",
     "start_time": "2019-01-30T04:20:54.909938Z"
    }
   },
   "outputs": [
    {
     "data": {
      "image/png": "[encoded data removed]",
      "text/plain": [
       "<Figure size 432x288 with 1 Axes>"
      ]
     },
     "metadata": {},
     "output_type": "display_data"
    }
   ],
   "source": [
    "plt.plot(C_list, accuracy_list, label='Prediction Accuracy')\n",
    "plt.ylabel('Prediction Accuracy')\n",
    "plt.legend()\n",
    "plt.title('MNIST Best C')\n",
    "plt.xlabel('C Value')\n",
    "plt.show()"
   ]
  },
  {
   "cell_type": "markdown",
   "metadata": {},
   "source": [
    "# K-Fold Cross-Validation"
   ]
  },
  {
   "cell_type": "code",
   "execution_count": 9,
   "metadata": {
    "ExecuteTime": {
     "end_time": "2019-01-30T04:58:04.477347Z",
     "start_time": "2019-01-30T04:52:24.156574Z"
    }
   },
   "outputs": [
    {
     "name": "stdout",
     "output_type": "stream",
     "text": [
      "Cross-Validation Accuracy when using  0.1  as C parameter is 0.7992978816845607\n",
      "Cross-Validation Accuracy when using  1  as C parameter is 0.8043259608106972\n",
      "Cross-Validation Accuracy when using  10  as C parameter is 0.8054865023967708\n",
      "Cross-Validation Accuracy when using  20  as C parameter is 0.8050998420841159\n",
      "Best Accuracy is when achieved using  10  as C parameter and accuracy is 0.8054865023967708\n"
     ]
    }
   ],
   "source": [
    "k = 5\n",
    "C_list = [1e-1, 1, 10, 20]\n",
    "score_C = 0\n",
    "accuracy_list = []\n",
    "\n",
    "a = len(spam_df)\n",
    "spam_folds = [0, 0, 0, 0, 0]\n",
    "for k in range(5):\n",
    "    spam_folds[k] = spam_df.iloc[int(k*a/5):int((k+1)*a/5), :]\n",
    "\n",
    "for i in C_list:\n",
    "    accuracy_list_k = []\n",
    "\n",
    "    # Create a svm Classifier\n",
    "    clf = svm.SVC(C=i, kernel='linear')  # Linear Kernel\n",
    "    b = -1\n",
    "    for j in range(5):\n",
    "        b += 1\n",
    "        for l in range(5):\n",
    "            if j != b:\n",
    "                spam_train.append(spam_folds[j])\n",
    "            else:\n",
    "                spam_val = spam_folds[b]\n",
    "\n",
    "        # Train the model using the training set\n",
    "        clf.fit(spam_train.iloc[:, :-1], spam_train.iloc[:, -1:])\n",
    "\n",
    "        # Predict the response for validation set\n",
    "        spam_pred = clf.predict(spam_val.iloc[:, :-1])\n",
    "        score_k = accuracy_score(spam_val.iloc[:, -1:], spam_pred)\n",
    "        accuracy_list_k.append(score_k)\n",
    "        #print('Accuracy when using ',i,' as C parameter is',score)\n",
    "\n",
    "    # Find average of all (k-1) training accuracies\n",
    "    score = sum(accuracy_list_k) / len(accuracy_list_k)\n",
    "    accuracy_list.append(score)\n",
    "    print('Cross-Validation Accuracy when using ',\n",
    "          i, ' as C parameter is', score)\n",
    "\n",
    "    if score > score_C:\n",
    "        score_C = score\n",
    "        C_spam = i\n",
    "print('Best Accuracy is when achieved using ', C_spam,\n",
    "      ' as C parameter and accuracy is', score_C)"
   ]
  },
  {
   "cell_type": "code",
   "execution_count": 10,
   "metadata": {
    "ExecuteTime": {
     "end_time": "2019-01-30T04:58:04.876714Z",
     "start_time": "2019-01-30T04:58:04.482730Z"
    }
   },
   "outputs": [
    {
     "data": {
      "image/png": "[encoded data removed]",
      "text/plain": [
       "<Figure size 432x288 with 1 Axes>"
      ]
     },
     "metadata": {},
     "output_type": "display_data"
    }
   ],
   "source": [
    "plt.plot(C_list, accuracy_list, label='Prediction Accuracy')\n",
    "plt.ylabel('Prediction Accuracy')\n",
    "plt.legend()\n",
    "plt.title('Spam Best C')\n",
    "plt.xlabel('C Value')\n",
    "plt.show()"
   ]
  },
  {
   "cell_type": "markdown",
   "metadata": {},
   "source": [
    "# Kaggle"
   ]
  },
  {
   "cell_type": "code",
   "execution_count": 11,
   "metadata": {
    "ExecuteTime": {
     "end_time": "2019-01-30T05:00:31.607783Z",
     "start_time": "2019-01-30T04:58:04.884350Z"
    }
   },
   "outputs": [],
   "source": [
    "# Create a svm Classifier\n",
    "C_mnist = 1e-7\n",
    "clf = svm.SVC(C=C_mnist, kernel='linear')  # Linear Kernel\n",
    "\n",
    "# Train the model using the training set\n",
    "clf.fit(mnist_train.iloc[:10000, :-1], mnist_train.iloc[:10000, -1:])\n",
    "\n",
    "# Predict the response for test set\n",
    "mnist_pred = clf.predict(mnist_test)\n",
    "\n",
    "# Usage results_to_csv(clf.predict(X_test))\n",
    "\n",
    "\n",
    "def results_to_csv(y_test):\n",
    "    y_test = y_test.astype(int)\n",
    "    df = pd.DataFrame({'Category': y_test})\n",
    "    df.index += 1  # Ensures that the index starts at 1.\n",
    "    df.to_csv('mnist.csv', index_label='Id')\n",
    "\n",
    "\n",
    "results_to_csv(mnist_pred)"
   ]
  },
  {
   "cell_type": "code",
   "execution_count": 14,
   "metadata": {
    "ExecuteTime": {
     "end_time": "2019-01-30T05:12:33.868238Z",
     "start_time": "2019-01-30T05:12:05.433175Z"
    }
   },
   "outputs": [],
   "source": [
    "# Create a svm Classifier\n",
    "clf = svm.SVC(C=C_spam, kernel='linear')  # Linear Kernel\n",
    "\n",
    "# Train the model using the training set\n",
    "clf.fit(spam_train.iloc[:, :-1], spam_train.iloc[:, -1:])\n",
    "\n",
    "# Predict the response for test set\n",
    "spam_pred = clf.predict(spam_test)\n",
    "\n",
    "# Usage results_to_csv(clf.predict(X_test))\n",
    "\n",
    "\n",
    "def results_to_csv(y_test):\n",
    "    y_test = y_test.astype(int)\n",
    "    df = pd.DataFrame({'Category': y_test})\n",
    "    df.index += 1  # Ensures that the index starts at 1.\n",
    "    df.to_csv('spam.csv', index_label='Id')\n",
    "\n",
    "\n",
    "results_to_csv(spam_pred)"
   ]
  },
  {
   "cell_type": "code",
   "execution_count": 15,
   "metadata": {
    "ExecuteTime": {
     "end_time": "2019-01-30T05:20:46.323369Z",
     "start_time": "2019-01-30T05:17:13.456554Z"
    }
   },
   "outputs": [],
   "source": [
    "# Create a svm Classifier\n",
    "clf = svm.SVC(kernel='linear')  # Linear Kernel\n",
    "\n",
    "# Train the model using the training set\n",
    "clf.fit(cifar_train.iloc[:5000, :-1], cifar_train.iloc[:5000, -1:])\n",
    "\n",
    "# Predict the response for test set\n",
    "cifar_pred = clf.predict(cifar_test)\n",
    "\n",
    "# Usage results_to_csv(clf.predict(X_test))\n",
    "\n",
    "\n",
    "def results_to_csv(y_test):\n",
    "    y_test = y_test.astype(int)\n",
    "    df = pd.DataFrame({'Category': y_test})\n",
    "    df.index += 1  # Ensures that the index starts at 1.\n",
    "    df.to_csv('cifar.csv', index_label='Id')\n",
    "\n",
    "\n",
    "results_to_csv(cifar_pred)"
   ]
  },
  {
   "cell_type": "markdown",
   "metadata": {},
   "source": [
    "# Theory of Hard-Margin Support Vector Machines"
   ]
  }
 ],
 "metadata": {
  "kernelspec": {
   "display_name": "Python 3",
   "language": "python",
   "name": "python3"
  },
  "language_info": {
   "codemirror_mode": {
    "name": "ipython",
    "version": 3
   },
   "file_extension": ".py",
   "mimetype": "text/x-python",
   "name": "python",
   "nbconvert_exporter": "python",
   "pygments_lexer": "ipython3",
   "version": "3.6.5"
  },
  "toc": {
   "base_numbering": 1,
   "nav_menu": {},
   "number_sections": true,
   "sideBar": true,
   "skip_h1_title": false,
   "title_cell": "Table of Contents",
   "title_sidebar": "Contents",
   "toc_cell": false,
   "toc_position": {},
   "toc_section_display": true,
   "toc_window_display": false
  }
 },
 "nbformat": 4,
 "nbformat_minor": 2
}
